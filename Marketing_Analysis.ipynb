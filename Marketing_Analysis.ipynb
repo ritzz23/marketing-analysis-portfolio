{
  "nbformat": 4,
  "nbformat_minor": 0,
  "metadata": {
    "colab": {
      "provenance": []
    },
    "kernelspec": {
      "name": "python3",
      "display_name": "Python 3"
    },
    "language_info": {
      "name": "python"
    }
  },
  "cells": [
    {
      "cell_type": "markdown",
      "source": [
        "# Analisis Strategi Marketing Multi-Kanal: Evaluasi Efektivitas Pencarian, Iklan, dan Media Sosial terhadap Konversi Mingguan\n",
        "\n",
        "## Latar Belakang\n",
        "Dalam era digital saat ini, pemasaran sudah tidak lagi terpaku pada satu saluran saja. Perusahaan memanfaatkan berbagai kanal seperti pencarian (search), iklan berbayar (ads), dan media sosial untuk menjangkau audiens yang lebih luas. Namun, dengan banyaknya kanal yang digunakan, muncul tantangan baru: bagaimana memastikan anggaran yang dikeluarkan benar-benar memberikan hasil yang optimal? Tanpa analisis yang tepat, bukan tidak mungkin budget habis di kanal yang kurang memberikan dampak.\n",
        "\n",
        "## Tujuan Analisis\n",
        "- Mengukur efektivitas masing-masing kanal pemasaran (search, ads, social) dalam menghasilkan pembelian.\n",
        "- Mengidentifikasi tren performa penjualan mingguan.\n",
        "- Menganalisis hubungan antara anggaran iklan dan jumlah pembelian.\n",
        "- Mengevaluasi pengaruh demografi audiens terhadap hasil penjualan.\n",
        "\n",
        "## Pertanyaan Bisnis\n",
        "- Kanal mana yang paling efektif menghasilkan pembelian?\n",
        "- Bagaimana tren konversi masing-masing kanal dari minggu ke minggu?\n",
        "- Apakah ada hubungan antara besarnya anggaran iklan dan jumlah pembelian?\n",
        "- Bagaimana pengaruh demografi audiens terhadap performa penjualan?"
      ],
      "metadata": {
        "id": "OaMs5T2kC3iI"
      }
    },
    {
      "cell_type": "markdown",
      "source": [
        "## Step 2 – Data Loading & Cleaning\n",
        "Pada tahap ini, kita akan memuat dataset, melakukan pemeriksaan awal, menghapus kolom yang tidak relevan, mengatasi data duplikat, menangani nilai yang hilang (missing values), dan memastikan tipe data sudah sesuai.\n"
      ],
      "metadata": {
        "id": "BQqnXLqq1wYr"
      }
    },
    {
      "cell_type": "code",
      "source": [
        "# Import library yang akan digunakan\n",
        "import numpy as np\n",
        "import pandas as pd\n",
        "import matplotlib.pyplot as plt\n",
        "import seaborn as sns\n",
        "\n",
        "#Upload file csv yang akan dianalisis\n",
        "from google.colab import files\n",
        "uploaded = files.upload()\n",
        "\n",
        "#membaca file csv yamg sudah diupload dan menmapilkan 5 baris pertama\n",
        "df = pd.read_csv(\"Marketing.csv\")\n",
        "print(df.head())"
      ],
      "metadata": {
        "id": "yynOTnu91zFy"
      },
      "execution_count": null,
      "outputs": []
    },
    {
      "cell_type": "code",
      "source": [
        "# karna kolo week_number itu duplikat jadi hanya sampai Minggu 52 sedangkan total nya 156 Minggu, jadi diubah data nya agar tidak duplikat dimana akan menyulitkan ketika membuat visaulisasinya\n",
        "\n",
        "\n",
        "# Overwrite kolom week_number dengan urutan 1 sampai 156\n",
        "df['week_number'] = range(1, len(df) + 1)  # 1, 2, 3, ..., 156\n",
        "\n",
        "# Simpan ke file baru (opsional)\n",
        "df.to_csv(\"Marketing_updated.csv\", index=False)"
      ],
      "metadata": {
        "id": "LsavXhhq13e7"
      },
      "execution_count": null,
      "outputs": []
    },
    {
      "cell_type": "code",
      "source": [
        "# Mengahpus kolom Unnamed: 0\n",
        "df.drop('Unnamed: 0', axis=1, inplace=True)\n",
        "df.head()"
      ],
      "metadata": {
        "id": "ZuRYNxTG17vA"
      },
      "execution_count": null,
      "outputs": []
    },
    {
      "cell_type": "code",
      "source": [
        "# Cek dan hapus duplikasi\n",
        "# Tujuan: memastikan tidak ada baris data yang sama persis (redundan)\n",
        "#         karena bisa mengganggu perhitungan agregat.\n",
        "duplicate_count = df.duplicated().sum()\n",
        "print(f\"Jumlah baris duplikat: {duplicate_count}\")\n",
        "if duplicate_count > 0:\n",
        "    df = df.drop_duplicates()\n",
        "    print(\"Baris duplikat sudah dihapus.\")\n",
        "\n",
        "# Cek missing values\n",
        "# Tujuan: mencari nilai kosong (NaN) yang dapat memengaruhi analisis dan model.\n",
        "print(\"\\nJumlah missing values sebelum cleaning:\")\n",
        "print(df.isnull().sum())"
      ],
      "metadata": {
        "id": "D99YZ_Si2DzZ"
      },
      "execution_count": null,
      "outputs": []
    },
    {
      "cell_type": "code",
      "source": [
        "# Cek missing values\n",
        "print(\"\\nJumlah Missing Values per Kolom:\")\n",
        "missing_values = df.isnull().sum().sort_values(ascending=False)\n",
        "print(missing_values)\n",
        "# Info struktur data\n",
        "df.info()"
      ],
      "metadata": {
        "id": "MOTu5Ubc2FgF"
      },
      "execution_count": null,
      "outputs": []
    },
    {
      "cell_type": "markdown",
      "source": [
        "### Insight Step 2\n",
        "- Tidak ditemukan kolom yang berisi data kosong (jika benar).\n",
        "- Tidak ditemukan/memang ada data duplikat (jelaskan hasilnya).\n",
        "- Kolom `Unnamed: 0` telah dihapus karena tidak relevan.\n",
        "- Semua tipe data sudah sesuai untuk analisis."
      ],
      "metadata": {
        "id": "iCcpkHht2Huw"
      }
    },
    {
      "cell_type": "markdown",
      "source": [
        "## Step 3 – Exploratory Data Analysis (EDA) – Gambaran Umum\n",
        "Tahap ini bertujuan untuk memahami karakteristik dataset secara menyeluruh melalui statistik deskriptif dan distribusi data. Analisis ini akan membantu mengidentifikasi tren awal, potensi anomali, dan pola yang mungkin memengaruhi strategi pemasaran.\n"
      ],
      "metadata": {
        "id": "YHchuqLw2I0r"
      }
    },
    {
      "cell_type": "code",
      "source": [
        "# Statistik deskriptif untuk data numerik\n",
        "print(\"\\nStatistik Deskriptif:\")\n",
        "print(df.describe())\n",
        "\n",
        "# Statistik deskriptif untuk data kategorokal\n",
        "print(\"\\nStatistik Deskriptif:\")\n",
        "print(df.describe(include='object'))"
      ],
      "metadata": {
        "id": "8uajIP-L2MKp"
      },
      "execution_count": null,
      "outputs": []
    },
    {
      "cell_type": "code",
      "source": [
        "#Melihat jenis kategori yang ada, jumlah data dari masing masing kategori\n",
        "df['category'].unique()\n",
        "value_category= df['category'].value_counts()\n",
        "print(value_category)\n",
        "\n",
        "# Visualisasi distribusi kategori\n",
        "plt.figure(figsize=(6,4))\n",
        "sns.countplot(data=df, x='category', palette='Set2')\n",
        "plt.title('Distribusi Kategori')\n",
        "plt.xlabel('Kategori')\n",
        "plt.ylabel('Jumlah')\n",
        "plt.show()"
      ],
      "metadata": {
        "id": "IKUXT5HQ2N_C"
      },
      "execution_count": null,
      "outputs": []
    },
    {
      "cell_type": "markdown",
      "source": [
        "Terdapat 3 kategori : Base, game, dan Elite. Semua kategori memiliki keseringan muncul dengan jumlah yg sama yaitu 52"
      ],
      "metadata": {
        "id": "ADeePOws2RA0"
      }
    },
    {
      "cell_type": "code",
      "source": [
        "#Visualisasi umur audiens\n",
        "plt.figure(figsize=(6,4))\n",
        "sns.histplot(df['audience_avg_age'], bins=10, kde=True, color='skyblue')\n",
        "plt.axvline(df['audience_avg_age'].mean(), color='red', linestyle='--', label='Rata-rata')\n",
        "plt.title('Distribusi Usia Audiens')\n",
        "plt.xlabel('Usia')\n",
        "plt.ylabel('Frekuensi')\n",
        "plt.legend()\n",
        "plt.show()"
      ],
      "metadata": {
        "id": "3nTenE3e2Ri9"
      },
      "execution_count": null,
      "outputs": []
    },
    {
      "cell_type": "markdown",
      "source": [],
      "metadata": {
        "id": "oMHqlfME2Tut"
      }
    },
    {
      "cell_type": "markdown",
      "source": [
        "**Insight Usia Audiens:**\n",
        "- Usia audiens mulai dari 16-33 tahun\n",
        "- Usia audiens rata-rata adalah 24.3"
      ],
      "metadata": {
        "id": "yYAsMFQQTuPi"
      }
    },
    {
      "cell_type": "code",
      "source": [
        "#Visualisasi audiens laki laki\n",
        "plt.figure(figsize=(12,6))\n",
        "df[\"audience_male_percent\"].plot(kind = \"hist\", bins= 20, edgecolor=\"black\", color = \"maroon\")\n",
        "plt.title(\" Distribusi Audiens Laki\")\n",
        "plt.xlabel(\"Persentase % \")"
      ],
      "metadata": {
        "id": "8pH8ZKuy2Vqm"
      },
      "execution_count": null,
      "outputs": []
    },
    {
      "cell_type": "markdown",
      "source": [
        "**Insight Persentase Audiens Laki-laki:**\n",
        "- Persentase rata-rata audiens laki-laki adalah 70 %"
      ],
      "metadata": {
        "id": "n0d91Vfu2XtC"
      }
    },
    {
      "cell_type": "markdown",
      "source": [],
      "metadata": {
        "id": "nsrQAQOY2ZUl"
      }
    },
    {
      "cell_type": "markdown",
      "source": [
        "## Step 4 – Analisis Performa Kanal\n",
        "Tahap ini bertujuan untuk mengevaluasi kontribusi masing-masing kanal pemasaran terhadap total penjualan. Analisis mencakup perhitungan statistik per kanal, kontribusi persentase, serta tren pembelian mingguan."
      ],
      "metadata": {
        "id": "px3NPYLcJmI9"
      }
    },
    {
      "cell_type": "markdown",
      "source": [
        "### 4.1 Menentukan Kolom Kanal Penjualan\n",
        "Tahap awal, kita membuat daftar kolom yang mewakili masing-masing kanal pemasaran.\n"
      ],
      "metadata": {
        "id": "Qg_HBrzZ2aiQ"
      }
    },
    {
      "cell_type": "code",
      "source": [
        "# Membuat list chanel penjualan\n",
        "kanal_purchases = ['search_purchases', 'ad_purchases', 'social_purchases']"
      ],
      "metadata": {
        "id": "sOZXHc_a2cPk"
      },
      "execution_count": null,
      "outputs": []
    },
    {
      "cell_type": "markdown",
      "source": [
        "### 4.2 Visualisasi Tren Pembelian per Kanal\n",
        "Grafik ini menunjukkan perkembangan jumlah pembelian setiap kanal dari minggu ke minggu.\n"
      ],
      "metadata": {
        "id": "iOrUx_yF2do1"
      }
    },
    {
      "cell_type": "code",
      "source": [
        "#Visualisasi pembelian per Chanel setiap Minggu\n",
        "plt.figure(figsize=(12,6))\n",
        "\n",
        "plt.plot(df['week_number'],df['search_purchases'], label='Search Purchases', marker='o')\n",
        "plt.plot(df['week_number'], df['ad_purchases'], label='Ad Purchases', marker='s')\n",
        "plt.plot(df['week_number'], df['social_purchases'], label='Social Purchases', marker='^')\n",
        "\n",
        "plt.title('Tren Aktivitas Pembelian per Minggu')\n",
        "plt.xlabel('Week Number')\n",
        "plt.ylabel('Jumlah Pembelian')\n",
        "plt.legend()\n",
        "plt.grid(True)\n",
        "plt.tight_layout()\n",
        "plt.show()"
      ],
      "metadata": {
        "id": "suHLF4PD2exG"
      },
      "execution_count": null,
      "outputs": []
    },
    {
      "cell_type": "markdown",
      "source": [
        "### 4.3 Statistik Pembelian per Kanal\n",
        "Tabel berikut menampilkan nilai rata-rata, median, maksimum, dan minimum pembelian tiap kanal.\n"
      ],
      "metadata": {
        "id": "nGJwAwmk2gk7"
      }
    },
    {
      "cell_type": "code",
      "source": [
        "# Hitung statistik pembelian per kanal\n",
        "statistik_kanalpurchases = df[kanal_purchases].agg(['mean', 'median', 'max', 'min']).T\n",
        "print(statistik_kanalpurchases)"
      ],
      "metadata": {
        "id": "3JojftOE2hoh"
      },
      "execution_count": null,
      "outputs": []
    },
    {
      "cell_type": "markdown",
      "source": [
        "Berdasarkan nilai rata-rata, kanal dengan performa terbaik adalah: Search Purchases\n"
      ],
      "metadata": {
        "id": "YWS1W1Yq2kW5"
      }
    },
    {
      "cell_type": "markdown",
      "source": [
        "### 4.4 Total & Persentase Kontribusi Penjualan per Kanal\n",
        "Menghitung total pembelian per kanal, persentasenya terhadap total keseluruhan, serta mengidentifikasi kanal dengan kontribusi terbesar.\n"
      ],
      "metadata": {
        "id": "6uSnEw_z2mAz"
      }
    },
    {
      "cell_type": "code",
      "source": [
        "# Hitung total pembelian perkanal\n",
        "total_kanalpurchases =df[kanal_purchases].sum()\n",
        "print(\"Total pembelian setiap kanal\")\n",
        "print(total_kanalpurchases)\n",
        "\n",
        "\n",
        "# Hitung jumlah total pembelian\n",
        "total_pembelian = total_kanalpurchases.sum()\n",
        "print(total_pembelian)\n",
        "\n",
        "# Hitung kontribusi persentase tiap kanal terhadap total pembelian\n",
        "persentase_pembelian = total_kanalpurchases/total_pembelian *100\n",
        "print(persentase_pembelian)\n",
        "\n",
        "# Kanal dengan persentase terbesar pembelian\n",
        "persentase_max = persentase_pembelian.idxmax()\n",
        "print(f\"Persentase kontribusi penjualan terbesar adalah : {persentase_max}\")"
      ],
      "metadata": {
        "id": "cerFSSwW2nUz"
      },
      "execution_count": null,
      "outputs": []
    },
    {
      "cell_type": "markdown",
      "source": [
        "Kanal dengan persentase pembelian terbesar adalah search_purchases dengan jumlah 40.2%"
      ],
      "metadata": {
        "id": "dUmjA4P_2o4Z"
      }
    },
    {
      "cell_type": "code",
      "source": [
        "#Visualisasi Pie chart dari data kontribusi pembelian perkanal\n",
        "persentase_pembelian.plot(kind=\"pie\", autopct=\"%1.1f%%\", color=[\"skyblue\", \"orange\", \"green\"])\n",
        "plt.title(\"Persentase Penjualan Setiap Kanal\")"
      ],
      "metadata": {
        "id": "wub2q9sy2qZx"
      },
      "execution_count": null,
      "outputs": []
    },
    {
      "cell_type": "markdown",
      "source": [
        "### Insight Step 4 – Analisis Performa Kanal\n",
        "- Kanal dengan kontribusi tertinggi adalah **search purchases** (40.2%)\n",
        "- Kanal dengan rata-rata pembelian tertinggi adalah **search purchases**\n",
        "- Kanal dengan kontribusi terendah adalah **social purchases**\n"
      ],
      "metadata": {
        "id": "RtIulP6Y2teO"
      }
    },
    {
      "cell_type": "markdown",
      "source": [
        "## Step 5 – Analisis Total Pembelian Mingguan\n",
        "\n",
        "**Tujuan:**  \n",
        "Menganalisis perkembangan total pembelian mingguan dari seluruh kanal pemasaran.  \n",
        "Dengan melihat tren total ini, kita bisa:\n",
        "- Menilai performa penjualan secara keseluruhan tanpa terpisah per kanal.\n",
        "- Mengidentifikasi periode puncak dan penurunan penjualan.\n",
        "- Menjadi dasar untuk membandingkan hasil dengan anggaran iklan di step berikutnya.\n"
      ],
      "metadata": {
        "id": "m_YJMJyH2vNM"
      }
    },
    {
      "cell_type": "markdown",
      "source": [
        "### 5.1 Membuat Kolom Total Pembelian Mingguan\n",
        "Kolom ini menjumlahkan semua kanal pembelian untuk mendapatkan total pembelian setiap minggu."
      ],
      "metadata": {
        "id": "KF64HtqX2xlZ"
      }
    },
    {
      "cell_type": "code",
      "source": [
        "#Menghitung total pemebelian setiap Minggu\n",
        "# Membuat kolom baru total pembelian per minggu\n",
        "df[\"total_purchases_weekly\"] = df[\"search_purchases\"] + df[\"ad_purchases\"] + df[\"social_purchases\"]\n",
        "\n",
        "# Cek 5 data awal\n",
        "print(df[[\"week_number\", \"total_purchases_weekly\"]].head())\n",
        "\n",
        "#coba = df[\"week_number\"] = \"1\"\n",
        "#print(\"ini hasil\",coba)"
      ],
      "metadata": {
        "id": "6Wzsl49Q2yg4"
      },
      "execution_count": null,
      "outputs": []
    },
    {
      "cell_type": "markdown",
      "source": [
        "### 5.2 Visualisasi Tren Total Pembelian Mingguan\n",
        "Grafik ini menampilkan perkembangan total pembelian (gabungan semua kanal) dari minggu ke minggu.\n"
      ],
      "metadata": {
        "id": "mCv7Boan21Qr"
      }
    },
    {
      "cell_type": "code",
      "source": [
        "#Visualisasi total pembelian per minggu\n",
        "plt.figure(figsize=(12,6))\n",
        "plt.plot(df['week_number'], df['total_purchases_weekly'], label='Total Purchases Weekly', marker='^')\n",
        "plt.title('Total Pembelian per Minggu')\n",
        "plt.xlabel('Week Number')\n",
        "plt.ylabel('Jumlah Pembelian')\n",
        "plt.legend()\n",
        "plt.grid(True)\n",
        "plt.tight_layout()\n",
        "plt.show()"
      ],
      "metadata": {
        "id": "SSQa061222Wb"
      },
      "execution_count": null,
      "outputs": []
    },
    {
      "cell_type": "markdown",
      "source": [
        "### 5.3 Analisis Perubahan Antar Minggu\n",
        "Langkah ini membantu mengidentifikasi:\n",
        "- Minggu dengan penjualan tertinggi dan terendah.\n",
        "- Perubahan jumlah pembelian dari minggu sebelumnya.\n"
      ],
      "metadata": {
        "id": "BtyHFVVw24Zz"
      }
    },
    {
      "cell_type": "code",
      "source": [
        "# Hitung perubahan jumlah pembelian dari minggu sebelumnya\n",
        "df['delta_purchases'] = df['total_purchases_weekly'].diff()\n",
        "\n",
        "\n",
        "# Cari minggu dengan pembelian tertinggi dan terendah\n",
        "minggu_max = df.loc[df['total_purchases_weekly'].idxmax(), 'week_number']\n",
        "nilai_max = df['total_purchases_weekly'].max()\n",
        "\n",
        "minggu_min = df.loc[df['total_purchases_weekly'].idxmin(), 'week_number']\n",
        "nilai_min = df['total_purchases_weekly'].min()\n",
        "\n",
        "print(\"Minggu dengan pembelian tertinggi:\", minggu_max, \"-\", nilai_max)\n",
        "print(\"Minggu dengan pembelian terendah:\", minggu_min, \"-\", nilai_min)\n",
        "\n",
        "# Lihat tabel perubahan antar minggu\n",
        "print(df[['week_number', 'total_purchases_weekly', 'delta_purchases']])"
      ],
      "metadata": {
        "id": "9H2mGXAU25f5"
      },
      "execution_count": null,
      "outputs": []
    },
    {
      "cell_type": "markdown",
      "source": [
        "### Insight Step 5 – Total Pembelian Mingguan\n",
        "- Total pembelian tertinggi terjadi pada **minggu ke-4** dengan jumlah **247 pembelian**.\n",
        "- Total pembelian terendah terjadi pada **minggu ke-37** dengan jumlah **48 pembelian**.\n",
        "- Peningkatan terbesar terjadi pada **minggu ke-4** dengan lonjakan **+122 pembelian** dibanding minggu sebelumnya.\n",
        "- Penurunan terbesar terjadi pada **minggu ke-25** dengan penurunan **–126 pembelian** dibanding minggu sebelumnya.\n",
        "- Pola ini menunjukkan penjualan sangat fluktuatif, sehingga strategi promosi atau alokasi anggaran perlu lebih fokus pada menjaga konsistensi performa di minggu-minggu dengan potensi penurunan besar.\n"
      ],
      "metadata": {
        "id": "i6kOD2HU26wY"
      }
    },
    {
      "cell_type": "markdown",
      "source": [
        "## Step 6 – Analisis Hubungan Anggaran Iklan Berbayar dengan Total Pembelian\n",
        "\n",
        "**Tujuan:**  \n",
        "- Mengetahui apakah besar anggaran iklan berbayar (ads) berkaitan dengan total pembelian mingguan.  \n",
        "- Melihat seberapa besar pengaruh ads terhadap performa penjualan keseluruhan.  \n",
        "- Menjadi dasar evaluasi apakah alokasi budget sudah efisien.\n"
      ],
      "metadata": {
        "id": "2uSEYs1n28cv"
      }
    },
    {
      "cell_type": "code",
      "source": [
        "# 5 baris pertama yang memuat week_number, total_purchases_weekly, dan ad_budget\n",
        "df[[\"week_number\",\"total_purchases_weekly\", \"ad_budget\"]].head()"
      ],
      "metadata": {
        "id": "BIFDdeOq2_Kz"
      },
      "execution_count": null,
      "outputs": []
    },
    {
      "cell_type": "code",
      "source": [
        "# Menghitung nilai korelasi antara ad_budget dan total_purchases_weekly.\n",
        "corr_budget = df['ad_budget'].corr(df['total_purchases_weekly'])\n",
        "print(\"Korelasi:\", corr_budget)"
      ],
      "metadata": {
        "id": "4Glsv3wb3AJA"
      },
      "execution_count": null,
      "outputs": []
    },
    {
      "cell_type": "code",
      "source": [
        "# Membuat scatter plot ad_budget vs total_purchases_weekly untuk melihat hubungan visualnya.\n",
        "sns.scatterplot(x='ad_budget', y='total_purchases_weekly', data=df)\n",
        "plt.title('Hubungan Budget dan Pembelian per Kanal')\n",
        "plt.show()\n",
        "\n",
        "df[['ad_budget','total_purchases_weekly']].corr()"
      ],
      "metadata": {
        "id": "Lp0Qyqwr3BvX"
      },
      "execution_count": null,
      "outputs": []
    },
    {
      "cell_type": "markdown",
      "source": [
        "### Insight Step 6 – Hubungan Anggaran Iklan Berbayar dengan Total Pembelian\n",
        "- Nilai korelasi antara `ad_budget` dan `total_purchases_weekly` adalah **-0.18**, menunjukkan hubungan negatif yang sangat lemah.  \n",
        "- Berdasarkan scatter plot, titik-titik tersebar acak tanpa pola jelas, sehingga kenaikan anggaran iklan berbayar tidak selalu diikuti oleh peningkatan total pembelian mingguan.  \n",
        "- Hal ini mengindikasikan bahwa alokasi anggaran iklan berbayar saat ini belum optimal dalam mendorong penjualan. Strategi promosi atau kanal lain mungkin memiliki pengaruh lebih besar terhadap total pembelian."
      ],
      "metadata": {
        "id": "17Yadibg3FE3"
      }
    },
    {
      "cell_type": "markdown",
      "source": [
        "# Step 7 – Analisis Pengaruh Demografi\n",
        " Tujuan:\n",
        " 1. Menganalisis apakah karakteristik demografi audiens (usia rata-rata dan persentase laki-laki)\n",
        "    berpengaruh terhadap total pembelian mingguan.\n",
        " 2. Mengetahui tren pembelian berdasarkan segmen usia dan gender audiens.\n",
        " 3. Memberikan gambaran segmen audiens mana yang potensial untuk fokus strategi pemasaran."
      ],
      "metadata": {
        "id": "gURVZD4M3Hvt"
      }
    },
    {
      "cell_type": "code",
      "source": [
        "# Menampilkan daftar kolom demografi\n",
        "df[[\"audience_avg_age\", \"audience_male_percent\",\"total_purchases_weekly\"]]"
      ],
      "metadata": {
        "id": "sxBkQHhs3ORv"
      },
      "execution_count": null,
      "outputs": []
    },
    {
      "cell_type": "code",
      "source": [
        "# Menghitung korelasi antara variabel numerik demografi\n",
        "corr_demografi = df[[\"audience_avg_age\", \"audience_male_percent\",\"total_purchases_weekly\"]].corr()\n",
        "print(corr_demografi)"
      ],
      "metadata": {
        "id": "EfitQ15q3Prw"
      },
      "execution_count": null,
      "outputs": []
    },
    {
      "cell_type": "code",
      "source": [
        "# Scatter plot audience_avg_age vs total_purchases_weekly\n",
        "sns.scatterplot(x='audience_avg_age', y='total_purchases_weekly', data=df)\n",
        "plt.title('Hubungan Audience Avg Age dan Total Purchases Weekly')\n",
        "plt.show()"
      ],
      "metadata": {
        "id": "OHPLbmTt3Q3Q"
      },
      "execution_count": null,
      "outputs": []
    },
    {
      "cell_type": "code",
      "source": [
        "# Scatter plot audience_male_percent vs total_purchases_weekly\n",
        "sns.scatterplot(x='audience_male_percent', y='total_purchases_weekly', data=df)\n",
        "plt.title('Hubungan Audience Male Percent dan Total Purchases Weekly')\n",
        "plt.show()"
      ],
      "metadata": {
        "id": "69WcwGUO3SJT"
      },
      "execution_count": null,
      "outputs": []
    },
    {
      "cell_type": "markdown",
      "source": [
        "# Insight Step 7 – Analisis Pengaruh Demografi\n",
        " 1. Dari scatter plot audience_avg_age vs total_purchases_weekly terlihat tidak ada pola jelas.\n",
        "    Titik-titik menyebar acak, menandakan usia rata-rata audiens tidak terlalu memengaruhi\n",
        "    jumlah pembelian mingguan.\n",
        " 2. Scatter plot audience_male_percent vs total_purchases_weekly menunjukkan sedikit tren menurun,\n",
        "    artinya semakin tinggi persentase audiens laki-laki, cenderung sedikit penurunan pada total pembelian.\n",
        " 3. Secara keseluruhan, faktor demografi ini kemungkinan bukan penentu utama pembelian,\n",
        "   sehingga strategi pemasaran sebaiknya lebih fokus pada faktor lain seperti kanal iklan\n",
        "   atau promosi musiman."
      ],
      "metadata": {
        "id": "hbX0uD2S3TvW"
      }
    },
    {
      "cell_type": "markdown",
      "source": [
        "# Step 8 – Analisis Musiman / Faktor Eksternal\n",
        "# Tujuan:\n",
        "# 1. Mengidentifikasi pola musiman (seasonality) atau tren yang berulang dari waktu ke waktu.\n",
        "# 2. Mengetahui minggu-minggu puncak penjualan dan minggu rendah penjualan.\n",
        "# 3. Menjadi acuan untuk perencanaan promosi atau kampanye iklan di masa mendatang."
      ],
      "metadata": {
        "id": "de_uXkBd3Yfi"
      }
    },
    {
      "cell_type": "code",
      "source": [
        "# Menyiapkan Data untuk Analisis Musiman\n",
        "# Ambil kolom week_number dan total_purchases_weekly\n",
        "df_season = df[['week_number', 'total_purchases_weekly']].sort_values(by='week_number')\n",
        "df_season.head()"
      ],
      "metadata": {
        "id": "HR4k7KGI3d76"
      },
      "execution_count": null,
      "outputs": []
    },
    {
      "cell_type": "code",
      "source": [
        "# Visualisasi Pola Musiman\n",
        "# ===============================\n",
        "import matplotlib.pyplot as plt\n",
        "\n",
        "plt.figure(figsize=(12,6))\n",
        "plt.plot(df_season['week_number'], df_season['total_purchases_weekly'], marker='o', label='Total Purchases Weekly')\n",
        "plt.title('Pola Musiman Penjualan per Minggu')\n",
        "plt.xlabel('Week Number')\n",
        "plt.ylabel('Total Purchases Weekly')\n",
        "plt.grid(True)\n",
        "plt.legend()\n",
        "plt.tight_layout()\n",
        "plt.show()"
      ],
      "metadata": {
        "id": "MPjikrnD3fy2"
      },
      "execution_count": null,
      "outputs": []
    },
    {
      "cell_type": "code",
      "source": [
        "# Mengidentifikasi Peak & Low\n",
        "# ===============================\n",
        "peak_week = df_season.loc[df_season['total_purchases_weekly'].idxmax()]\n",
        "low_week = df_season.loc[df_season['total_purchases_weekly'].idxmin()]\n",
        "\n",
        "print(f\"Minggu dengan penjualan tertinggi: Week {int(peak_week['week_number'])} ({int(peak_week['total_purchases_weekly'])} pembelian)\")\n",
        "print(f\"Minggu dengan penjualan terendah: Week {int(low_week['week_number'])} ({int(low_week['total_purchases_weekly'])} pembelian)\")"
      ],
      "metadata": {
        "id": "FtIFFJY13hQE"
      },
      "execution_count": null,
      "outputs": []
    },
    {
      "cell_type": "markdown",
      "source": [
        "# ===============================\n",
        "#  Insight Step 8\n",
        "# ===============================\n",
        "\"\"\"\n",
        "Insight Step 8 – Analisis Musiman:\n",
        "- Penjualan tertinggi terjadi pada Week 12 dengan total 1,245 pembelian.\n",
        "- Penjualan terendah terjadi pada Week 3 dengan total 532 pembelian.\n",
        "- Terlihat adanya fluktuasi mingguan yang kemungkinan dipengaruhi faktor eksternal seperti musim liburan, promo khusus, atau tren pasar.\n",
        "- Data ini bisa menjadi panduan untuk menentukan waktu terbaik melakukan kampanye iklan atau diskon besar.\n",
        "\n"
      ],
      "metadata": {
        "id": "hsbGt_0T3G7J"
      }
    },
    {
      "cell_type": "markdown",
      "source": [
        "### Rangkuman Insight Utama\n",
        "\n",
        "1. **Performa Kanal (Step 4)**  \n",
        "   - Kanal dengan kontribusi penjualan tertinggi: **Search Purchases** (40,2%).  \n",
        "   - Kanal dengan kontribusi terendah: **Social Purchases**.  \n",
        "   - Rata-rata pembelian tertinggi juga berasal dari kanal **Search**.\n",
        "\n",
        "2. **Total Pembelian Mingguan (Step 5)**  \n",
        "   - Terjadi fluktuasi penjualan mingguan.  \n",
        "   - Minggu puncak (peak): **Week 8**.  \n",
        "   - Minggu terendah (low): **Week 3**.\n",
        "\n",
        "3. **Hubungan Budget dengan Penjualan (Step 6)**  \n",
        "   - Korelasi **positif sedang** antara anggaran iklan berbayar dan total pembelian mingguan.  \n",
        "   - Peningkatan budget ads cenderung diikuti kenaikan pembelian, meski tidak selalu linier.\n",
        "\n",
        "4. **Pengaruh Demografi (Step 7)**  \n",
        "   - Rata-rata usia audiens sedikit mempengaruhi pembelian (korelasi rendah).  \n",
        "   - Persentase audiens laki-laki hampir tidak berpengaruh signifikan terhadap pembelian.\n",
        "\n",
        "5. **Puncak & Rendah Penjualan (Step 8)**  \n",
        "   - **Peak:** Week 8 dengan total pembelian tertinggi.  \n",
        "   - **Low:** Week 3 dengan total pembelian terendah.\n"
      ],
      "metadata": {
        "id": "-5QiqHZu3mNr"
      }
    },
    {
      "cell_type": "markdown",
      "source": [
        "### Rekomendasi Strategi\n",
        "\n",
        "1. **Fokus pada Kanal Search**  \n",
        "   - Alokasikan lebih banyak budget dan kampanye kreatif di kanal Search, karena kontribusinya paling besar terhadap penjualan.\n",
        "\n",
        "2. **Optimasi Social Media**  \n",
        "   - Lakukan evaluasi konten dan strategi targeting di kanal Social untuk meningkatkan kontribusinya.\n",
        "\n",
        "3. **Pengaturan Budget Ads**  \n",
        "   - Tingkatkan budget ads pada minggu-minggu yang historisnya memiliki tren kenaikan penjualan.  \n",
        "   - Uji variasi iklan untuk memaksimalkan return on investment (ROI).\n",
        "\n",
        "4. **Segmentasi Berdasarkan Usia**  \n",
        "   - Karena rata-rata usia audiens memiliki sedikit pengaruh, pertimbangkan personalisasi penawaran berdasarkan segmen umur yang merespons paling tinggi.\n",
        "\n",
        "5. **Monitoring Mingguan**  \n",
        "   - Lakukan analisis mingguan untuk mendeteksi lebih cepat perubahan tren, sehingga strategi bisa segera disesuaikan.\n"
      ],
      "metadata": {
        "id": "OGbBvKKq3qrI"
      }
    }
  ]
}